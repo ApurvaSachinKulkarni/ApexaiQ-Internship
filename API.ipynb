{
 "cells": [
  {
   "cell_type": "code",
   "execution_count": 1,
   "id": "4fce4c85-83ef-4833-ba80-9e7f4c34c7fa",
   "metadata": {},
   "outputs": [
    {
     "name": "stdout",
     "output_type": "stream",
     "text": [
      "Requirement already satisfied: requests in c:\\users\\apurva\\anaconda3\\lib\\site-packages (2.32.3)\n",
      "Requirement already satisfied: charset-normalizer<4,>=2 in c:\\users\\apurva\\anaconda3\\lib\\site-packages (from requests) (3.3.2)\n",
      "Requirement already satisfied: idna<4,>=2.5 in c:\\users\\apurva\\anaconda3\\lib\\site-packages (from requests) (3.7)\n",
      "Requirement already satisfied: urllib3<3,>=1.21.1 in c:\\users\\apurva\\anaconda3\\lib\\site-packages (from requests) (2.3.0)\n",
      "Requirement already satisfied: certifi>=2017.4.17 in c:\\users\\apurva\\anaconda3\\lib\\site-packages (from requests) (2025.8.3)\n",
      "Note: you may need to restart the kernel to use updated packages.\n"
     ]
    }
   ],
   "source": [
    "pip install requests"
   ]
  },
  {
   "cell_type": "code",
   "execution_count": 5,
   "id": "6e6fbc96-b0ac-4415-aa32-aaffcaa1edc2",
   "metadata": {},
   "outputs": [
    {
     "name": "stdout",
     "output_type": "stream",
     "text": [
      "Status Code: 200\n"
     ]
    }
   ],
   "source": [
    "import requests\n",
    "url=\"https://api.github.com/users/octocat\"\n",
    "response=requests.get(url)\n",
    "print(\"Status Code:\",response.status_code)"
   ]
  },
  {
   "cell_type": "code",
   "execution_count": 8,
   "id": "6b07d5f4-eb9e-4961-8efa-cf3102a5677c",
   "metadata": {},
   "outputs": [],
   "source": [
    "data=response.json()"
   ]
  },
  {
   "cell_type": "code",
   "execution_count": 9,
   "id": "94870248-4646-40c8-8826-3ddcfbbc253c",
   "metadata": {},
   "outputs": [
    {
     "name": "stdout",
     "output_type": "stream",
     "text": [
      "{'login': 'octocat', 'id': 583231, 'node_id': 'MDQ6VXNlcjU4MzIzMQ==', 'avatar_url': 'https://avatars.githubusercontent.com/u/583231?v=4', 'gravatar_id': '', 'url': 'https://api.github.com/users/octocat', 'html_url': 'https://github.com/octocat', 'followers_url': 'https://api.github.com/users/octocat/followers', 'following_url': 'https://api.github.com/users/octocat/following{/other_user}', 'gists_url': 'https://api.github.com/users/octocat/gists{/gist_id}', 'starred_url': 'https://api.github.com/users/octocat/starred{/owner}{/repo}', 'subscriptions_url': 'https://api.github.com/users/octocat/subscriptions', 'organizations_url': 'https://api.github.com/users/octocat/orgs', 'repos_url': 'https://api.github.com/users/octocat/repos', 'events_url': 'https://api.github.com/users/octocat/events{/privacy}', 'received_events_url': 'https://api.github.com/users/octocat/received_events', 'type': 'User', 'user_view_type': 'public', 'site_admin': False, 'name': 'The Octocat', 'company': '@github', 'blog': 'https://github.blog', 'location': 'San Francisco', 'email': None, 'hireable': None, 'bio': None, 'twitter_username': None, 'public_repos': 8, 'public_gists': 8, 'followers': 19277, 'following': 9, 'created_at': '2011-01-25T18:44:36Z', 'updated_at': '2025-08-22T11:23:11Z'}\n"
     ]
    }
   ],
   "source": [
    "print(data)"
   ]
  },
  {
   "cell_type": "code",
   "execution_count": 11,
   "id": "03765b54-efe3-491c-9aa3-169dc4affe63",
   "metadata": {},
   "outputs": [
    {
     "name": "stdout",
     "output_type": "stream",
     "text": [
      "User: octocat\n"
     ]
    }
   ],
   "source": [
    "print(\"User:\",data[\"login\"])"
   ]
  },
  {
   "cell_type": "code",
   "execution_count": 12,
   "id": "90b52046-104a-419e-aeb1-7f1a42d1b90d",
   "metadata": {},
   "outputs": [
    {
     "name": "stdout",
     "output_type": "stream",
     "text": [
      "Name: The Octocat\n"
     ]
    }
   ],
   "source": [
    "print(\"Name:\",data[\"name\"])"
   ]
  },
  {
   "cell_type": "code",
   "execution_count": 13,
   "id": "7a0f27a2-f827-476c-9e0e-4e66f323735f",
   "metadata": {},
   "outputs": [
    {
     "name": "stdout",
     "output_type": "stream",
     "text": [
      "Public Repos: 8\n"
     ]
    }
   ],
   "source": [
    "print(\"Public Repos:\", data[\"public_repos\"])"
   ]
  },
  {
   "cell_type": "code",
   "execution_count": 14,
   "id": "a11f58f7-7ffc-44ca-9d21-780d3d88cb6c",
   "metadata": {},
   "outputs": [],
   "source": [
    "url2=\"https://api.agify.io\""
   ]
  },
  {
   "cell_type": "code",
   "execution_count": 15,
   "id": "04169f3a-04a9-46a0-acb8-3c99ed0b86ef",
   "metadata": {},
   "outputs": [],
   "source": [
    "params={\"name\":\"apurva\"}"
   ]
  },
  {
   "cell_type": "code",
   "execution_count": 21,
   "id": "ef509b03-7195-41c0-9dab-4f0dda22d6ab",
   "metadata": {},
   "outputs": [],
   "source": [
    "response2=requests.get(url2,params=params)"
   ]
  },
  {
   "cell_type": "code",
   "execution_count": 22,
   "id": "2fdf10e0-08cc-4b84-8cd5-7529a2f50707",
   "metadata": {},
   "outputs": [],
   "source": [
    "data2=response2.json()"
   ]
  },
  {
   "cell_type": "code",
   "execution_count": 23,
   "id": "f0a318cb-ec74-4760-90a3-0d1a82f574ba",
   "metadata": {},
   "outputs": [
    {
     "name": "stdout",
     "output_type": "stream",
     "text": [
      "{'count': 186, 'name': 'apurva', 'age': 41}\n"
     ]
    }
   ],
   "source": [
    "print(data2)"
   ]
  },
  {
   "cell_type": "code",
   "execution_count": 27,
   "id": "1e2013f5-d946-4410-a0e6-9d32fb1369cc",
   "metadata": {},
   "outputs": [
    {
     "name": "stdout",
     "output_type": "stream",
     "text": [
      "Name: apurva\n"
     ]
    }
   ],
   "source": [
    "print(\"Name:\",data2[\"name\"])"
   ]
  },
  {
   "cell_type": "code",
   "execution_count": 31,
   "id": "4f47ae68-ad80-455c-8f99-145927a5c9eb",
   "metadata": {},
   "outputs": [
    {
     "name": "stdout",
     "output_type": "stream",
     "text": [
      "Predicted Age: 41\n"
     ]
    }
   ],
   "source": [
    "print(\"Predicted Age:\",data2[\"age\"])"
   ]
  },
  {
   "cell_type": "code",
   "execution_count": 32,
   "id": "d729a85d-fa26-4004-b25d-36bccbab7bd7",
   "metadata": {},
   "outputs": [],
   "source": [
    "url3=\"https://httpbin.org/post\""
   ]
  },
  {
   "cell_type": "code",
   "execution_count": 33,
   "id": "78e195cd-3492-4fcf-a252-636905cf51c6",
   "metadata": {},
   "outputs": [],
   "source": [
    "payload = {\"username\":\"apurva\",\"msg\":\"HELLO API!\"}"
   ]
  },
  {
   "cell_type": "code",
   "execution_count": null,
   "id": "0ae73683-4d18-4426-a4a9-8339a15b4745",
   "metadata": {},
   "outputs": [],
   "source": [
    "response3 = requests.post(url3"
   ]
  }
 ],
 "metadata": {
  "kernelspec": {
   "display_name": "Python [conda env:base] *",
   "language": "python",
   "name": "conda-base-py"
  },
  "language_info": {
   "codemirror_mode": {
    "name": "ipython",
    "version": 3
   },
   "file_extension": ".py",
   "mimetype": "text/x-python",
   "name": "python",
   "nbconvert_exporter": "python",
   "pygments_lexer": "ipython3",
   "version": "3.13.5"
  }
 },
 "nbformat": 4,
 "nbformat_minor": 5
}
