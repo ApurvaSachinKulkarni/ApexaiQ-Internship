{
 "cells": [
  {
   "cell_type": "code",
   "execution_count": 29,
   "id": "d6c5a6be-83fe-43b8-afd6-6626cc450430",
   "metadata": {},
   "outputs": [],
   "source": [
    "#List Comprehension"
   ]
  },
  {
   "cell_type": "code",
   "execution_count": 30,
   "id": "ec3cf365-d51e-4597-a0e0-2bab3ddda8f8",
   "metadata": {},
   "outputs": [
    {
     "name": "stdout",
     "output_type": "stream",
     "text": [
      "[1, 4, 9, 16, 25, 36, 49, 64, 81, 100]\n"
     ]
    }
   ],
   "source": [
    "#Creating a List of Squares\n",
    "squares = [x*x for x in range(1,11)]\n",
    "print(squares)"
   ]
  },
  {
   "cell_type": "code",
   "execution_count": 5,
   "id": "af94ea40-503a-40f4-a50f-fbb450548c3e",
   "metadata": {},
   "outputs": [
    {
     "name": "stdout",
     "output_type": "stream",
     "text": [
      "[1, 8, 27, 64, 125, 216, 343, 512, 729, 1000]\n"
     ]
    }
   ],
   "source": [
    "# Creating a List of Cubes\n",
    "cubes = [x**3 for x in range(1,11)]\n",
    "print(cubes)"
   ]
  },
  {
   "cell_type": "code",
   "execution_count": 7,
   "id": "1a28c009-039f-4f20-8dba-323d70b604d0",
   "metadata": {},
   "outputs": [
    {
     "name": "stdout",
     "output_type": "stream",
     "text": [
      "[32, 12, 46]\n"
     ]
    }
   ],
   "source": [
    "#Filtering Even Numbers\n",
    "num = [23, 32, 12, 15, 46]\n",
    "even_num = [x for x in num if x%2==0]\n",
    "print(even_num)"
   ]
  },
  {
   "cell_type": "code",
   "execution_count": 20,
   "id": "507de9e6-81bc-4c95-a661-044fb7ef8a10",
   "metadata": {},
   "outputs": [
    {
     "name": "stdout",
     "output_type": "stream",
     "text": [
      "[12, 15]\n"
     ]
    }
   ],
   "source": [
    "#Filtering Numbers Divisible by Three\n",
    "num_divisible_by_3 = [x for x in num if x%3==0]\n",
    "print(num_divisible_by_3)"
   ]
  },
  {
   "cell_type": "code",
   "execution_count": 16,
   "id": "fb69647a-7d80-4988-bc5f-9f5855e6f282",
   "metadata": {},
   "outputs": [
    {
     "name": "stdout",
     "output_type": "stream",
     "text": [
      "Odd\n",
      "Even\n",
      "Even\n",
      "Odd\n",
      "Even\n"
     ]
    }
   ],
   "source": [
    "#Tag Numbers as 'Even' or 'Odd'\n",
    "tagged_num = [print(\"Even\") if x % 2 == 0 else print(\"Odd\") for x in num]"
   ]
  },
  {
   "cell_type": "code",
   "execution_count": 19,
   "id": "d822f4f7-4114-4086-897c-bdef00f21e1a",
   "metadata": {},
   "outputs": [
    {
     "name": "stdout",
     "output_type": "stream",
     "text": [
      "[-5, -4, -3, -2, -1, 0, 1, 2, 3, 4, 5]\n",
      "[0, 0, 0, 0, 0, 0, 1, 2, 3, 4, 5]\n"
     ]
    }
   ],
   "source": [
    "#Changing Negative Numbers to Zero\n",
    "before_change = [x for x in range (-5,6)]\n",
    "print(before_change)\n",
    "changed = [x if x>=0 else 0 for x in range (-5,6)]\n",
    "print(changed)"
   ]
  },
  {
   "cell_type": "code",
   "execution_count": 21,
   "id": "a30d0b5f-5f96-4d56-8501-01a002e453ea",
   "metadata": {},
   "outputs": [
    {
     "name": "stdout",
     "output_type": "stream",
     "text": [
      "[1024, 2116]\n"
     ]
    }
   ],
   "source": [
    "#Squaring Numbers Greater than Thirty\n",
    "num_greater_than_30_squared = [x**2 for x in num if x>30]\n",
    "print(num_greater_than_30_squared)"
   ]
  },
  {
   "cell_type": "code",
   "execution_count": 24,
   "id": "fd1ea2f3-cf49-42b6-b362-b310d8a53795",
   "metadata": {},
   "outputs": [
    {
     "name": "stdout",
     "output_type": "stream",
     "text": [
      "['a', 'u', 'a']\n"
     ]
    }
   ],
   "source": [
    "#Identifying Vowels from a Given String\n",
    "string='apurva'\n",
    "vowels = [x for x in string if x in 'aeiou']\n",
    "print(vowels)"
   ]
  },
  {
   "cell_type": "code",
   "execution_count": 25,
   "id": "01184d49-1161-4516-a7b6-6e8e76b10460",
   "metadata": {},
   "outputs": [
    {
     "name": "stdout",
     "output_type": "stream",
     "text": [
      "[32.0, 50.0, 68.0, 86.0, 104.0]\n"
     ]
    }
   ],
   "source": [
    "#Converting Temperature from Degree Celsius to Degree Fahrenheit\n",
    "temp_celsius = [0, 10, 20, 30, 40]\n",
    "fahrenheit = [(temp * 9/5) + 32 for temp in temp_celsius]\n",
    "print(fahrenheit)"
   ]
  },
  {
   "cell_type": "code",
   "execution_count": 28,
   "id": "610be034-c1a7-4389-ab4e-7f58c1e4fb1d",
   "metadata": {},
   "outputs": [
    {
     "name": "stdout",
     "output_type": "stream",
     "text": [
      "[[1, 2], [2, 3], [3, 4]]\n",
      "[1, 2, 2, 3, 3, 4]\n"
     ]
    }
   ],
   "source": [
    "#Flattening a 2D List (Nested List Comprehension)\n",
    "matrix = [[1,2],[2,3],[3,4]]\n",
    "print(matrix)\n",
    "flattend_matrix = [x for row in matrix for x in row]\n",
    "print(flattend_matrix)"
   ]
  },
  {
   "cell_type": "code",
   "execution_count": 31,
   "id": "7f09eb73-90b7-4984-8be3-2e88b72d29b0",
   "metadata": {},
   "outputs": [],
   "source": [
    "#Dictionary Comprehension"
   ]
  },
  {
   "cell_type": "code",
   "execution_count": 32,
   "id": "23366d8f-106f-44ef-85d7-3af940061c22",
   "metadata": {},
   "outputs": [
    {
     "name": "stdout",
     "output_type": "stream",
     "text": [
      "{1: 1, 2: 4, 3: 9, 4: 16, 5: 25}\n"
     ]
    }
   ],
   "source": [
    "#Squares of numbers 1–5\n",
    "squares = {num: num**2 for num in range(1, 6)}\n",
    "print(squares)"
   ]
  },
  {
   "cell_type": "code",
   "execution_count": 33,
   "id": "df4f47cf-e773-4ee5-8c77-eca2d0d06d9e",
   "metadata": {},
   "outputs": [
    {
     "name": "stdout",
     "output_type": "stream",
     "text": [
      "{'jasmine': 7, 'rose': 4, 'lotus': 5, 'daisy': 5, 'lily': 4}\n"
     ]
    }
   ],
   "source": [
    "#Convert list of words to their lengths\n",
    "words = ['jasmine','rose','lotus','daisy','lily']\n",
    "length = {word: len(word) for word in words}\n",
    "print(length)"
   ]
  },
  {
   "cell_type": "code",
   "execution_count": 34,
   "id": "75ba63bb-528f-4308-8b34-4c1f156624d9",
   "metadata": {},
   "outputs": [
    {
     "name": "stdout",
     "output_type": "stream",
     "text": [
      "{23: 'odd', 34: 'even', 27: 'odd', 1342: 'even'}\n"
     ]
    }
   ],
   "source": [
    "#Mapping numbers to even/odd\n",
    "num = [23,34,27,1342]\n",
    "mapped_num = {n: 'even' if n % 2 == 0 else 'odd' for n in num}\n",
    "print(mapped_num)"
   ]
  },
  {
   "cell_type": "code",
   "execution_count": 39,
   "id": "73d1cbf2-2637-463f-8f29-7daa3ef9d690",
   "metadata": {},
   "outputs": [
    {
     "name": "stdout",
     "output_type": "stream",
     "text": [
      "{'name': 'apurva', 'age': 21, 'city': 'nagpur'}\n"
     ]
    }
   ],
   "source": [
    "#Create a dictionary from two lists\n",
    "key = ['name','age','city']\n",
    "value = ['apurva',21,'nagpur']\n",
    "dictionary = {k: v for k, v in zip(key, value)}\n",
    "print(dictionary)"
   ]
  },
  {
   "cell_type": "code",
   "execution_count": 41,
   "id": "a3b6aae4-9311-4fa7-8b34-494a478b8a37",
   "metadata": {},
   "outputs": [
    {
     "name": "stdout",
     "output_type": "stream",
     "text": [
      "{'v': 1, 'p': 1, 'a': 2, 'r': 1, 'u': 1}\n"
     ]
    }
   ],
   "source": [
    "#Count frequency of characters in a string\n",
    "text = \"apurva\"\n",
    "freq = {char: text.count(char) for char in set(text)}\n",
    "print(freq)"
   ]
  },
  {
   "cell_type": "code",
   "execution_count": 43,
   "id": "f5513465-746a-44a8-a68a-ce660afa54dc",
   "metadata": {},
   "outputs": [
    {
     "name": "stdout",
     "output_type": "stream",
     "text": [
      "{34: 1156, 1342: 1800964}\n"
     ]
    }
   ],
   "source": [
    "#Filter only even numbers and square them\n",
    "req_num = {n: n**2 for n in num if n % 2 == 0}\n",
    "print(req_num)"
   ]
  },
  {
   "cell_type": "code",
   "execution_count": 44,
   "id": "d6e4a814-80b0-40fe-9c26-c2259877c42d",
   "metadata": {},
   "outputs": [
    {
     "name": "stdout",
     "output_type": "stream",
     "text": [
      "{1: 'a', 2: 'b', 3: 'c'}\n"
     ]
    }
   ],
   "source": [
    "#Swap keys and values in a dictionary\n",
    "data = {'a': 1, 'b': 2, 'c': 3}\n",
    "swapped = {v: k for k, v in data.items()}\n",
    "print(swapped)"
   ]
  },
  {
   "cell_type": "code",
   "execution_count": 46,
   "id": "f35f474e-425e-4c9b-8cde-5ec98c290cb0",
   "metadata": {},
   "outputs": [
    {
     "name": "stdout",
     "output_type": "stream",
     "text": [
      "{'A': 65, 'B': 66, 'C': 67, 'D': 68, 'E': 69, 'F': 70, 'G': 71, 'H': 72, 'I': 73, 'J': 74, 'K': 75, 'L': 76, 'M': 77, 'N': 78, 'O': 79, 'P': 80, 'Q': 81, 'R': 82, 'S': 83, 'T': 84, 'U': 85, 'V': 86, 'W': 87, 'X': 88, 'Y': 89, 'Z': 90}\n"
     ]
    }
   ],
   "source": [
    "#Create a dictionary of ASCII values for uppercase letters\n",
    "req_dict = {chr(i): i for i in range(65, 91)}\n",
    "print(req_dict)"
   ]
  },
  {
   "cell_type": "code",
   "execution_count": 47,
   "id": "64edc7b3-c9d8-4fb5-97b4-7d9f0fb13465",
   "metadata": {},
   "outputs": [
    {
     "name": "stdout",
     "output_type": "stream",
     "text": [
      "{1: {1: 1, 2: 2, 3: 3, 4: 4, 5: 5}, 2: {1: 2, 2: 4, 3: 6, 4: 8, 5: 10}, 3: {1: 3, 2: 6, 3: 9, 4: 12, 5: 15}}\n"
     ]
    }
   ],
   "source": [
    "#Multiplication Table (Nested Dictionary Comprehension)\n",
    "nested_dict = {n: {i: n*i for i in range(1, 6)} for n in range(1, 4)}\n",
    "print(nested_dict)"
   ]
  },
  {
   "cell_type": "code",
   "execution_count": 49,
   "id": "53bc3827-04fe-4be1-bf3f-babff1d5976c",
   "metadata": {},
   "outputs": [
    {
     "name": "stdout",
     "output_type": "stream",
     "text": [
      "{'dictionary': 'DICTIONARY', 'comprehension': 'COMPREHENSION'}\n"
     ]
    }
   ],
   "source": [
    "#Filter words longer than 4 letters and map to uppercase\n",
    "words = ['data', 'dictionary', 'code', 'comprehension', 'map']\n",
    "result = {w: w.upper() for w in words if len(w) > 4}\n",
    "print(result)"
   ]
  },
  {
   "cell_type": "code",
   "execution_count": 50,
   "id": "744cd909-c8de-42aa-9024-b32bac0f9171",
   "metadata": {},
   "outputs": [],
   "source": [
    "#File Handling"
   ]
  },
  {
   "cell_type": "code",
   "execution_count": 56,
   "id": "9c3f8233-89a5-4d71-906c-8dc85f9aad43",
   "metadata": {},
   "outputs": [
    {
     "name": "stdout",
     "output_type": "stream",
     "text": [
      "Topic - File Handling\n",
      "\n",
      "File handling refers to the process of performing operations on a file, such as creating, opening, reading, writing and closing it through a programming interface. It involves managing the data flow between the program and the file system on the storage device, ensuring that data is handled safely and efficiently.\n",
      "\n",
      "Why do we need File Handling\n",
      "To store data permanently, even after the program ends.\n",
      "To access external files like .txt, .csv, .json, etc.\n",
      "To process large files efficiently without using much memory.\n",
      "To automate tasks like reading configs or saving outputs.\n",
      "To handle input/output in real-world applications and tools.\n"
     ]
    }
   ],
   "source": [
    "#Read entire file\n",
    "f = open(R\"C:\\Users\\user\\Desktop\\ApexaiQ Internship\\file handling.txt\", \"r\")\n",
    "content = f.read()\n",
    "print(content)\n",
    "f.close()"
   ]
  },
  {
   "cell_type": "code",
   "execution_count": 58,
   "id": "de79e473-fbf4-4281-b0f2-3585291c84ac",
   "metadata": {},
   "outputs": [
    {
     "name": "stdout",
     "output_type": "stream",
     "text": [
      "Topic - File Handling\n",
      "\n",
      "File handling refers to the process of performing operations on a file, such as creating, opening, reading, writing and closing it through a programming interface.\n",
      "It involves managing the data flow between the program and the file system on the storage device, ensuring that data is handled safely and efficiently.\n",
      "\n",
      "Why do we need File Handling\n",
      "To store data permanently, even after the program ends.\n",
      "To access external files like .txt, .csv, .json, etc.\n",
      "To process large files efficiently without using much memory.\n",
      "To automate tasks like reading configs or saving outputs.\n",
      "To handle input/output in real-world applications and tools.\n"
     ]
    }
   ],
   "source": [
    "#Read line-by-line\n",
    "f = open(R\"C:\\Users\\user\\Desktop\\ApexaiQ Internship\\file handling.txt\", \"r\")\n",
    "for line in f:\n",
    "    print(line.strip())\n",
    "f.close()"
   ]
  },
  {
   "cell_type": "code",
   "execution_count": 63,
   "id": "3fc40c94-ad58-46e1-8845-f9e0bc0edda6",
   "metadata": {},
   "outputs": [
    {
     "name": "stdout",
     "output_type": "stream",
     "text": [
      "Topic - File Handling\n",
      "\n",
      "File handling refers to the process of performing operations on a file, such as creating, opening, reading, writing and closing it through a programming interface.\n",
      "It involves managing the data flow between the program and the \n"
     ]
    }
   ],
   "source": [
    "#Read specific characters\n",
    "f = open(R\"C:\\Users\\user\\Desktop\\ApexaiQ Internship\\file handling.txt\", \"r\")\n",
    "print(f.read(250))  # Reads first 250 characters\n",
    "f.close()"
   ]
  },
  {
   "cell_type": "code",
   "execution_count": 64,
   "id": "b0c991c6-d3d1-4311-b82b-7a63dfffffb5",
   "metadata": {},
   "outputs": [
    {
     "name": "stdout",
     "output_type": "stream",
     "text": [
      "['Topic - File Handling\\n', '\\n', 'File handling refers to the process of performing operations on a file, such as creating, opening, reading, writing and closing it through a programming interface.\\n', 'It involves managing the data flow between the program and the file system on the storage device, ensuring that data is handled safely and efficiently.\\n', '\\n', 'Why do we need File Handling\\n', 'To store data permanently, even after the program ends.\\n', 'To access external files like .txt, .csv, .json, etc.\\n', 'To process large files efficiently without using much memory.\\n', 'To automate tasks like reading configs or saving outputs.\\n', 'To handle input/output in real-world applications and tools.']\n"
     ]
    }
   ],
   "source": [
    "#Read into a list\n",
    "f = open(R\"C:\\Users\\user\\Desktop\\ApexaiQ Internship\\file handling.txt\", \"r\")\n",
    "lines = f.readlines()\n",
    "print(lines)\n",
    "f.close()"
   ]
  },
  {
   "cell_type": "code",
   "execution_count": 65,
   "id": "453d2278-5b80-42f6-bfb4-041c682b5610",
   "metadata": {},
   "outputs": [],
   "source": [
    "#Write text\n",
    "f = open(R\"C:\\Users\\user\\Desktop\\ApexaiQ Internship\\file handling.txt\", \"w\")\n",
    "f.write(\"Hello, World!\\n\")\n",
    "f.write(\"Second line\")\n",
    "f.close()"
   ]
  },
  {
   "cell_type": "code",
   "execution_count": 67,
   "id": "286e604e-55a7-4565-bbe4-aa3b7e3c568a",
   "metadata": {},
   "outputs": [],
   "source": [
    "#Append text\n",
    "f = open(R\"C:\\Users\\user\\Desktop\\ApexaiQ Internship\\file handling.txt\", \"a\")\n",
    "f.write(\"\\nAdding a new line\")\n",
    "f.close()"
   ]
  },
  {
   "cell_type": "code",
   "execution_count": 68,
   "id": "212d15af-c929-497e-9bcb-517db2131fc9",
   "metadata": {},
   "outputs": [
    {
     "name": "stdout",
     "output_type": "stream",
     "text": [
      "Hello, World!\n",
      "Second line\n",
      "Adding a new line\n"
     ]
    }
   ],
   "source": [
    "f = open(R\"C:\\Users\\user\\Desktop\\ApexaiQ Internship\\file handling.txt\", \"r\")\n",
    "content = f.read()\n",
    "print(content)\n",
    "f.close()"
   ]
  },
  {
   "cell_type": "code",
   "execution_count": 69,
   "id": "8f46ef9f-ed8f-4e6d-b47e-e415c56181d0",
   "metadata": {},
   "outputs": [
    {
     "name": "stdout",
     "output_type": "stream",
     "text": [
      "Hello, World!\n",
      "Second line\n",
      "Adding a new line\n"
     ]
    }
   ],
   "source": [
    "#Using with\n",
    "with open(R\"C:\\Users\\user\\Desktop\\ApexaiQ Internship\\file handling.txt\", \"r\") as f:\n",
    "    content = f.read()\n",
    "    print(content)"
   ]
  },
  {
   "cell_type": "code",
   "execution_count": 76,
   "id": "e027ef95-d843-420a-8008-111160b8290b",
   "metadata": {},
   "outputs": [
    {
     "name": "stdout",
     "output_type": "stream",
     "text": [
      "File exists\n"
     ]
    }
   ],
   "source": [
    "import os\n",
    "\n",
    "if os.path.exists(R\"C:\\Users\\user\\Desktop\\ApexaiQ Internship\\file handling.txt\"):\n",
    "    print(\"File exists\")\n",
    "else:\n",
    "    print(\"File not found\")"
   ]
  },
  {
   "cell_type": "code",
   "execution_count": 77,
   "id": "da1fb8b8-579f-42e2-9eee-a15c8c092258",
   "metadata": {},
   "outputs": [
    {
     "name": "stdout",
     "output_type": "stream",
     "text": [
      "File not found\n"
     ]
    }
   ],
   "source": [
    "import os\n",
    "\n",
    "if os.path.exists(R\"C:\\Users\\user\\Desktop\\ApexaiQ Internship\\file.txt\"):\n",
    "    print(\"File exists\")\n",
    "else:\n",
    "    print(\"File not found\")"
   ]
  },
  {
   "cell_type": "code",
   "execution_count": 79,
   "id": "922b166c-7f46-46f1-942f-b96e27a9ed36",
   "metadata": {},
   "outputs": [
    {
     "name": "stdout",
     "output_type": "stream",
     "text": [
      "Filename: C:\\Users\\user\\Desktop\\ApexaiQ Internship\\file handling.txt\n",
      "Mode: r\n",
      "Is Closed? False\n",
      "Is Closed? True\n"
     ]
    }
   ],
   "source": [
    "f = open(R\"C:\\Users\\user\\Desktop\\ApexaiQ Internship\\file handling.txt\", \"r\")\n",
    "print(\"Filename:\", f.name)\n",
    "print(\"Mode:\", f.mode)\n",
    "print(\"Is Closed?\", f.closed)\n",
    "f.close()\n",
    "print(\"Is Closed?\", f.closed)"
   ]
  },
  {
   "cell_type": "code",
   "execution_count": 80,
   "id": "23a0ce24-e403-4154-8db0-9da0ea170ee0",
   "metadata": {},
   "outputs": [],
   "source": [
    "#Error Handling"
   ]
  },
  {
   "cell_type": "code",
   "execution_count": 82,
   "id": "22d27112-02fe-452d-95a6-4073baa929de",
   "metadata": {},
   "outputs": [
    {
     "name": "stdout",
     "output_type": "stream",
     "text": [
      "You can't divide by zero!\n"
     ]
    }
   ],
   "source": [
    "#The try-except bolck\n",
    "try:\n",
    "    x = 10 / 0\n",
    "except ZeroDivisionError:\n",
    "    print(\"You can't divide by zero!\")"
   ]
  },
  {
   "cell_type": "code",
   "execution_count": 85,
   "id": "5b918990-ecea-44de-ab7f-e672cf423a69",
   "metadata": {},
   "outputs": [
    {
     "name": "stdout",
     "output_type": "stream",
     "text": [
      "Invalid number!\n"
     ]
    }
   ],
   "source": [
    "#separately\n",
    "try:\n",
    "    num = int(\"abc\")\n",
    "    result = 10 / num\n",
    "except ValueError:\n",
    "    print(\"Invalid number!\")\n",
    "except ZeroDivisionError:\n",
    "    print(\"Division by zero not allowed!\")"
   ]
  },
  {
   "cell_type": "code",
   "execution_count": 84,
   "id": "91c2d64f-244d-4da0-ba4f-59c3400edf9f",
   "metadata": {},
   "outputs": [
    {
     "name": "stdout",
     "output_type": "stream",
     "text": [
      "Something went wrong!\n"
     ]
    }
   ],
   "source": [
    "#group them together\n",
    "try:\n",
    "    num = int(\"abc\")\n",
    "    result = 10 / num\n",
    "except (ValueError, ZeroDivisionError):\n",
    "    print(\"Something went wrong!\")"
   ]
  },
  {
   "cell_type": "code",
   "execution_count": 86,
   "id": "d4d0275a-94d7-481e-b2d5-009a1f8f2784",
   "metadata": {},
   "outputs": [
    {
     "name": "stdout",
     "output_type": "stream",
     "text": [
      "File not found!\n",
      "End of program.\n"
     ]
    }
   ],
   "source": [
    "try:\n",
    "    f = open(\"file.txt\", \"r\")\n",
    "except FileNotFoundError:\n",
    "    print(\"File not found!\")\n",
    "else:\n",
    "    print(\"File opened successfully!\")\n",
    "    f.close()\n",
    "finally:\n",
    "    print(\"End of program.\")"
   ]
  },
  {
   "cell_type": "code",
   "execution_count": 91,
   "id": "0a6f4a31-735b-40db-b1b7-1310ace9eb55",
   "metadata": {},
   "outputs": [
    {
     "ename": "ValueError",
     "evalue": "underage!!",
     "output_type": "error",
     "traceback": [
      "\u001b[1;31m---------------------------------------------------------------------------\u001b[0m",
      "\u001b[1;31mValueError\u001b[0m                                Traceback (most recent call last)",
      "Cell \u001b[1;32mIn[91], line 3\u001b[0m\n\u001b[0;32m      1\u001b[0m age \u001b[38;5;241m=\u001b[39m \u001b[38;5;241m17\u001b[39m\n\u001b[0;32m      2\u001b[0m \u001b[38;5;28;01mif\u001b[39;00m age \u001b[38;5;241m<\u001b[39m \u001b[38;5;241m18\u001b[39m:\n\u001b[1;32m----> 3\u001b[0m     \u001b[38;5;28;01mraise\u001b[39;00m \u001b[38;5;167;01mValueError\u001b[39;00m(\u001b[38;5;124m\"\u001b[39m\u001b[38;5;124munderage!!\u001b[39m\u001b[38;5;124m\"\u001b[39m)\n",
      "\u001b[1;31mValueError\u001b[0m: underage!!"
     ]
    }
   ],
   "source": [
    "age = 17\n",
    "if age < 18:\n",
    "    raise ValueError(\"underage!!\")"
   ]
  },
  {
   "cell_type": "code",
   "execution_count": null,
   "id": "56bcc330-d7ec-46cc-b6b1-c78f2b3d0a56",
   "metadata": {},
   "outputs": [],
   "source": []
  }
 ],
 "metadata": {
  "kernelspec": {
   "display_name": "Python [conda env:base] *",
   "language": "python",
   "name": "conda-base-py"
  },
  "language_info": {
   "codemirror_mode": {
    "name": "ipython",
    "version": 3
   },
   "file_extension": ".py",
   "mimetype": "text/x-python",
   "name": "python",
   "nbconvert_exporter": "python",
   "pygments_lexer": "ipython3",
   "version": "3.13.5"
  }
 },
 "nbformat": 4,
 "nbformat_minor": 5
}
